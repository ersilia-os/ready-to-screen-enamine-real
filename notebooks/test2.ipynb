{
 "cells": [
  {
   "cell_type": "code",
   "execution_count": 1,
   "id": "d40fd1c6",
   "metadata": {},
   "outputs": [],
   "source": [
    "import pickle\n",
    "import os"
   ]
  },
  {
   "cell_type": "code",
   "execution_count": 2,
   "id": "8776aa35",
   "metadata": {},
   "outputs": [
    {
     "name": "stdout",
     "output_type": "stream",
     "text": [
      "156\n"
     ]
    }
   ],
   "source": [
    "files = []\n",
    "files += [f\"Enamine_REAL_NaturalProducts_{str(i).zfill(3)}.csv.zst\" for i in range(52)]\n",
    "files += [f\"Enamine_REAL_Sample_{str(i).zfill(3)}.csv.zst\" for i in range(104)]\n",
    "# files += [f\"Enamine_REAL_LeadLike_{str(i).zfill(3)}.csv.zst\" for i in range(1)]\n",
    "print(len(files))\n",
    "pickle.dump(files, open(os.path.join(\"..\", \"files.pkl\"), \"wb\"))"
   ]
  }
 ],
 "metadata": {
  "kernelspec": {
   "display_name": "enamine",
   "language": "python",
   "name": "python3"
  },
  "language_info": {
   "codemirror_mode": {
    "name": "ipython",
    "version": 3
   },
   "file_extension": ".py",
   "mimetype": "text/x-python",
   "name": "python",
   "nbconvert_exporter": "python",
   "pygments_lexer": "ipython3",
   "version": "3.12.12"
  }
 },
 "nbformat": 4,
 "nbformat_minor": 5
}
