{
 "cells": [
  {
   "cell_type": "code",
   "execution_count": null,
   "id": "a6e2f511",
   "metadata": {},
   "outputs": [],
   "source": [
    "import pandas as pd\n",
    "import os\n",
    "root = '.'"
   ]
  },
  {
   "cell_type": "code",
   "execution_count": null,
   "id": "eb6bb69b",
   "metadata": {},
   "outputs": [],
   "source": [
    "PATH_TO_DATA = \"/home/acomajuncosa/Downloads/Enamine_REAL_natural_products_like_cxsmiles.cxsmiles.bz2\"\n",
    "\n",
    "for chunk in pd.read_csv(PATH_TO_DATA, compression=\"infer\", chunksize=10_000_000, dtype_backend=\"pyarrow\", sep='\\t', usecols=[\"smiles\", \"id\"]):\n",
    "    \n",
    "    # Save chunk\n",
    "    chunk.to_csv(os.path.join(root, \"..\", \"tmp\", \"file.csv.zst\"), index=False, compression={\"method\": \"zstd\", \"level\": 10})\n",
    "\n",
    "    # Upload to Google Drive\n",
    "    \n",
    "\n",
    "    break"
   ]
  },
  {
   "cell_type": "code",
   "execution_count": null,
   "id": "301ed468",
   "metadata": {},
   "outputs": [],
   "source": []
  }
 ],
 "metadata": {
  "kernelspec": {
   "display_name": "enamine",
   "language": "python",
   "name": "python3"
  },
  "language_info": {
   "codemirror_mode": {
    "name": "ipython",
    "version": 3
   },
   "file_extension": ".py",
   "mimetype": "text/x-python",
   "name": "python",
   "nbconvert_exporter": "python",
   "pygments_lexer": "ipython3",
   "version": "3.12.0"
  }
 },
 "nbformat": 4,
 "nbformat_minor": 5
}
