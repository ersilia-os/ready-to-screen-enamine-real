{
 "cells": [
  {
   "cell_type": "code",
   "execution_count": 1,
   "id": "622659ef",
   "metadata": {},
   "outputs": [
    {
     "name": "stderr",
     "output_type": "stream",
     "text": [
      "Downloading...\n"
     ]
    },
    {
     "data": {
      "text/plain": [
       "15"
      ]
     },
     "execution_count": 1,
     "metadata": {},
     "output_type": "execute_result"
    }
   ],
   "source": [
    "import pandas as pd\n",
    "import pickle\n",
    "import tqdm\n",
    "import sys\n",
    "import os\n",
    "sys.path.append(\"/aloy/home/acomajuncosa/Ersilia/ready-to-screen-enamine-real/src\")\n",
    "from src import download, smiles_to_ecfp, save_fingerprints, save_ids, upload\n",
    "\n",
    "root = \".\"\n",
    "\n",
    "# Get file\n",
    "file = pickle.load(open(os.path.join(\"..\", \"files.pkl\"), \"rb\"))[0]\n",
    "\n",
    "# Download\n",
    "sys.stderr.write(\"Downloading...\\n\")\n",
    "# download(file, os.path.join(\"..\", \"tmp\", file), \"../service.json\", \"1P3DSLRpD0GL8th2B78b7OauEXp3I2ZY0\")"
   ]
  },
  {
   "cell_type": "code",
   "execution_count": 2,
   "id": "820360b6",
   "metadata": {},
   "outputs": [
    {
     "name": "stderr",
     "output_type": "stream",
     "text": [
      "Getting SMILES...\n"
     ]
    }
   ],
   "source": [
    "# Get SMILES\n",
    "sys.stderr.write(\"Getting SMILES...\\n\")\n",
    "SMILES = pd.read_csv(os.path.join(\"..\", \"tmp\", file)).values.tolist()\n",
    "\n",
    "# # Calculate ECFP4s\n",
    "# sys.stderr.write(\"Calculating ECFP4s...\\n\")\n",
    "# OUTPUT_SMILES, X = smiles_to_ecfp(SMILES)"
   ]
  },
  {
   "cell_type": "code",
   "execution_count": 3,
   "id": "46e349b0",
   "metadata": {},
   "outputs": [],
   "source": [
    "from google.oauth2.service_account import Credentials\n",
    "from googleapiclient.http import MediaFileUpload\n",
    "from scipy.sparse import csr_matrix, save_npz\n",
    "from rdkit.Chem import rdFingerprintGenerator\n",
    "from googleapiclient.discovery import build\n",
    "from rdkit import Chem\n",
    "from tqdm import tqdm\n",
    "import numpy as np\n",
    "import pandas as pd\n",
    "import httplib2\n",
    "import os"
   ]
  },
  {
   "cell_type": "code",
   "execution_count": 11,
   "id": "ffe6051c",
   "metadata": {},
   "outputs": [],
   "source": [
    "def clip_sparse(vect, nBits=2048):\n",
    "    \"\"\"\n",
    "    Convert a sparse RDKit fingerprint vector to a dense int8 list.\n",
    "\n",
    "    Parameters\n",
    "    ----------\n",
    "    vect : rdkit.DataStructs.cDataStructs.ExplicitBitVect or similar\n",
    "        Sparse fingerprint vector with nonzero elements.\n",
    "    nBits : int, optional, default=2048\n",
    "        Length of the dense output vector.\n",
    "\n",
    "    Returns\n",
    "    -------\n",
    "    list of int\n",
    "        Dense list representation of the fingerprint, where values are\n",
    "        clipped to the maximum representable int8 value.\n",
    "    \"\"\"\n",
    "    l = [0] * nBits\n",
    "    for i, v in vect.GetNonzeroElements().items():\n",
    "        l[i] = v if v < np.iinfo(np.int8).max else np.iinfo(np.int8).max\n",
    "    return np.array(l, dtype=np.int8)"
   ]
  },
  {
   "cell_type": "code",
   "execution_count": 12,
   "id": "ffa2615c",
   "metadata": {},
   "outputs": [
    {
     "name": "stderr",
     "output_type": "stream",
     "text": [
      "  2%|▏         | 219994/10000000 [00:27<20:36, 7911.95it/s]\n"
     ]
    },
    {
     "ename": "KeyboardInterrupt",
     "evalue": "",
     "output_type": "error",
     "traceback": [
      "\u001b[31m---------------------------------------------------------------------------\u001b[39m",
      "\u001b[31mKeyboardInterrupt\u001b[39m                         Traceback (most recent call last)",
      "\u001b[36mCell\u001b[39m\u001b[36m \u001b[39m\u001b[32mIn[12]\u001b[39m\u001b[32m, line 6\u001b[39m\n\u001b[32m      4\u001b[39m mol = Chem.MolFromSmiles(smi)\n\u001b[32m      5\u001b[39m ecfp = mfpgen.GetCountFingerprint(mol)\n\u001b[32m----> \u001b[39m\u001b[32m6\u001b[39m ecfp = \u001b[43mclip_sparse\u001b[49m\u001b[43m(\u001b[49m\u001b[43mecfp\u001b[49m\u001b[43m)\u001b[49m\n\u001b[32m      7\u001b[39m X.append(ecfp)\n\u001b[32m      8\u001b[39m \u001b[38;5;66;03m# OUTPUT_SMILES.append([smi, _id])\u001b[39;00m\n",
      "\u001b[36mCell\u001b[39m\u001b[36m \u001b[39m\u001b[32mIn[11]\u001b[39m\u001b[32m, line 20\u001b[39m, in \u001b[36mclip_sparse\u001b[39m\u001b[34m(vect, nBits)\u001b[39m\n\u001b[32m     18\u001b[39m l = [\u001b[32m0\u001b[39m] * nBits\n\u001b[32m     19\u001b[39m \u001b[38;5;28;01mfor\u001b[39;00m i, v \u001b[38;5;129;01min\u001b[39;00m vect.GetNonzeroElements().items():\n\u001b[32m---> \u001b[39m\u001b[32m20\u001b[39m     l[i] = v \u001b[38;5;28;01mif\u001b[39;00m v < np.iinfo(np.int8).max \u001b[38;5;28;01melse\u001b[39;00m np.iinfo(np.int8).max\n\u001b[32m     21\u001b[39m \u001b[38;5;28;01mreturn\u001b[39;00m np.array(l, dtype=np.int8)\n",
      "\u001b[31mKeyboardInterrupt\u001b[39m: "
     ]
    }
   ],
   "source": [
    "mfpgen = rdFingerprintGenerator.GetMorganGenerator(radius=3, fpSize=2048)\n",
    "OUTPUT_SMILES, X = [], []\n",
    "for smi, _id in tqdm(SMILES):\n",
    "    mol = Chem.MolFromSmiles(smi)\n",
    "    ecfp = mfpgen.GetCountFingerprint(mol)\n",
    "    ecfp = clip_sparse(ecfp)\n",
    "    X.append(ecfp)\n",
    "    # OUTPUT_SMILES.append([smi, _id])"
   ]
  },
  {
   "cell_type": "code",
   "execution_count": null,
   "id": "b15c46a5",
   "metadata": {},
   "outputs": [],
   "source": []
  }
 ],
 "metadata": {
  "kernelspec": {
   "display_name": "enamine",
   "language": "python",
   "name": "python3"
  },
  "language_info": {
   "codemirror_mode": {
    "name": "ipython",
    "version": 3
   },
   "file_extension": ".py",
   "mimetype": "text/x-python",
   "name": "python",
   "nbconvert_exporter": "python",
   "pygments_lexer": "ipython3",
   "version": "3.12.12"
  }
 },
 "nbformat": 4,
 "nbformat_minor": 5
}
