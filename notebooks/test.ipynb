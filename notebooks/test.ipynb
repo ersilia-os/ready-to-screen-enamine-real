{
 "cells": [
  {
   "cell_type": "code",
   "execution_count": 1,
   "id": "29500c14",
   "metadata": {},
   "outputs": [],
   "source": [
    "from rdkit.Chem import rdFingerprintGenerator\n",
    "from rdkit import Chem\n",
    "import pandas as pd\n",
    "import numpy as np\n",
    "from tqdm import tqdm\n",
    "import pickle\n",
    "import os"
   ]
  },
  {
   "cell_type": "code",
   "execution_count": 2,
   "id": "78f1e916",
   "metadata": {},
   "outputs": [],
   "source": [
    "SMILES = pd.read_csv(\"/home/acomajuncosa/Documents/chembl-antimicrobial-tasks/config/chembl_activities/compound_structures.csv\")['canonical_smiles'].tolist()"
   ]
  },
  {
   "cell_type": "code",
   "execution_count": 3,
   "id": "e566a088",
   "metadata": {},
   "outputs": [
    {
     "data": {
      "text/plain": [
       "2854815"
      ]
     },
     "execution_count": 3,
     "metadata": {},
     "output_type": "execute_result"
    }
   ],
   "source": [
    "len(SMILES)"
   ]
  },
  {
   "cell_type": "code",
   "execution_count": 4,
   "id": "908aec45",
   "metadata": {},
   "outputs": [],
   "source": [
    "def clip_sparse(vect, nBits=2048):\n",
    "  l = [0] * nBits\n",
    "  for i, v in vect.GetNonzeroElements().items():\n",
    "    l[i] = v if v < np.iinfo(np.int8).max else np.iinfo(np.int8).max\n",
    "  return l"
   ]
  },
  {
   "cell_type": "code",
   "execution_count": 5,
   "id": "83b4f46c",
   "metadata": {},
   "outputs": [],
   "source": [
    "def smiles_to_ecfp(smiles, radius=2, nBits=2048):\n",
    "    mfpgen = rdFingerprintGenerator.GetMorganGenerator(radius=radius, fpSize=nBits)\n",
    "    OUTPUT_SMILES, X = [], []\n",
    "    for smi in tqdm(smiles):\n",
    "        try:\n",
    "            mol = Chem.MolFromSmiles(smi)\n",
    "            ecfp = mfpgen.GetCountFingerprint(mol)\n",
    "            ecfp = clip_sparse(ecfp)\n",
    "            X.append(ecfp)\n",
    "            OUTPUT_SMILES.append(smi)\n",
    "        except:\n",
    "            pass  \n",
    "    return OUTPUT_SMILES, np.array(X, dtype=np.int8)"
   ]
  },
  {
   "cell_type": "code",
   "execution_count": 8,
   "id": "25bc259f",
   "metadata": {},
   "outputs": [
    {
     "name": "stderr",
     "output_type": "stream",
     "text": [
      " 20%|█▉        | 197386/1000000 [00:47<03:00, 4455.46it/s][18:39:10] Can't kekulize mol.  Unkekulized atoms: 30 31 32 33 34 35 36 37 38 39 40 41 42 43 44 45 46 47 48 49 50 51 52 53 54 55 56 57 58 59 60 61 62 63 64 65 66 67 68 69 70 71 72 73 74 75 76 77\n",
      " 59%|█████▉    | 589491/1000000 [02:30<01:37, 4217.72it/s][18:40:53] Can't kekulize mol.  Unkekulized atoms: 30 31 32 33 34 35 36 37 38 39 40 41 42 43 44 45 46 47 48 49 50 51 52 53 54 55 56 57 58 59 60 61 62 63 64 65 66 67 68 69 70 71 72 73 74 75 76 77\n",
      "100%|██████████| 1000000/1000000 [04:04<00:00, 4085.97it/s]\n"
     ]
    }
   ],
   "source": [
    "OUTPUT_SMILES, X = smiles_to_ecfp(SMILES[:1000000])"
   ]
  },
  {
   "cell_type": "code",
   "execution_count": 13,
   "id": "441797f2",
   "metadata": {},
   "outputs": [
    {
     "data": {
      "text/plain": [
       "10000.0"
      ]
     },
     "execution_count": 13,
     "metadata": {},
     "output_type": "execute_result"
    }
   ],
   "source": [
    "10_000_000_000 / 1_000_000"
   ]
  },
  {
   "cell_type": "code",
   "execution_count": null,
   "id": "72c2db3a",
   "metadata": {},
   "outputs": [],
   "source": [
    "pickle.dump(X, open(\"../X.pkl\", \"wb\"))"
   ]
  },
  {
   "cell_type": "code",
   "execution_count": 10,
   "id": "7af5d1e9",
   "metadata": {},
   "outputs": [],
   "source": [
    "from scipy.sparse import csr_matrix, save_npz\n",
    "\n",
    "def save_fingerprints(fingerprints, filename):\n",
    "    \"\"\"Save one fingerprint array efficiently\"\"\"\n",
    "    sparse_fp = csr_matrix(fingerprints.astype(np.uint8))\n",
    "    save_npz(filename, sparse_fp)\n",
    "\n",
    "save_fingerprints(X, open(\"../X.npz\", \"wb\"))"
   ]
  },
  {
   "cell_type": "code",
   "execution_count": 12,
   "id": "2f25d510",
   "metadata": {},
   "outputs": [
    {
     "data": {
      "text/plain": [
       "0.999998"
      ]
     },
     "execution_count": 12,
     "metadata": {},
     "output_type": "execute_result"
    }
   ],
   "source": [
    "len(X) / 1000000"
   ]
  }
 ],
 "metadata": {
  "kernelspec": {
   "display_name": "enamine",
   "language": "python",
   "name": "python3"
  },
  "language_info": {
   "codemirror_mode": {
    "name": "ipython",
    "version": 3
   },
   "file_extension": ".py",
   "mimetype": "text/x-python",
   "name": "python",
   "nbconvert_exporter": "python",
   "pygments_lexer": "ipython3",
   "version": "3.10.19"
  }
 },
 "nbformat": 4,
 "nbformat_minor": 5
}
