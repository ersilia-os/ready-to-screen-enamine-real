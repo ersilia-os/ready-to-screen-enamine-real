{
 "cells": [
  {
   "cell_type": "code",
   "execution_count": 1,
   "id": "29500c14",
   "metadata": {},
   "outputs": [],
   "source": [
    "import pandas as pd\n",
    "import sys\n",
    "sys.path.append(\"/home/acomajuncosa/Documents/ready-to-screen-enamine-real/src\")\n",
    "from src import smiles_to_ecfp\n",
    "from src import save_fingerprints\n",
    "from src import upload\n",
    "from src import save_ids\n",
    "import os"
   ]
  },
  {
   "cell_type": "code",
   "execution_count": 2,
   "id": "46e965fd",
   "metadata": {},
   "outputs": [],
   "source": [
    "SMILES = pd.read_csv(\"/home/acomajuncosa/Documents/chembl-antimicrobial-tasks/config/chembl_activities/compound_structures.csv\")['canonical_smiles'].tolist()"
   ]
  },
  {
   "cell_type": "code",
   "execution_count": 3,
   "id": "78f1e916",
   "metadata": {},
   "outputs": [
    {
     "name": "stderr",
     "output_type": "stream",
     "text": [
      "100%|██████████| 10000/10000 [00:02<00:00, 4930.88it/s]\n"
     ]
    }
   ],
   "source": [
    "# Calculate and save ECFP4s\n",
    "OUTPUT_SMILES, X = smiles_to_ecfp(SMILES[:1_000_0])\n",
    "OUTPUT_SMILES = [[str(c), i] for c, i in enumerate(OUTPUT_SMILES)]\n",
    "\n",
    "# Save data\n",
    "save_fingerprints(X, open(\"../tmp/X.npz\", \"wb\"))\n",
    "save_ids(OUTPUT_SMILES, open(\"../tmp/ids.pq\", \"wb\"))\n",
    "\n",
    "# Upload data\n",
    "upload(\"../tmp/X.npz\", \"../service.json\")\n",
    "upload(\"../tmp/ids.pq\", \"../service.json\")\n",
    "\n",
    "# Remove files\n",
    "os.remove(\"../tmp/X.npz\")\n",
    "os.remove(\"../tmp/ids.pq\")"
   ]
  },
  {
   "cell_type": "code",
   "execution_count": null,
   "id": "f6d077c0",
   "metadata": {},
   "outputs": [],
   "source": []
  },
  {
   "cell_type": "code",
   "execution_count": null,
   "id": "622659ef",
   "metadata": {},
   "outputs": [],
   "source": []
  }
 ],
 "metadata": {
  "kernelspec": {
   "display_name": "enamine",
   "language": "python",
   "name": "python3"
  },
  "language_info": {
   "codemirror_mode": {
    "name": "ipython",
    "version": 3
   },
   "file_extension": ".py",
   "mimetype": "text/x-python",
   "name": "python",
   "nbconvert_exporter": "python",
   "pygments_lexer": "ipython3",
   "version": "3.12.12"
  }
 },
 "nbformat": 4,
 "nbformat_minor": 5
}
