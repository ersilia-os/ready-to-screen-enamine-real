{
 "cells": [
  {
   "cell_type": "code",
   "execution_count": null,
   "id": "29500c14",
   "metadata": {},
   "outputs": [],
   "source": [
    "import pandas as pd\n",
    "import sys\n",
    "sys.path.append(\"/home/acomajuncosa/Documents/EnamineReal-Ersilia/src\")\n",
    "from src import smiles_to_ecfp\n",
    "from src import clip_sparse\n",
    "from src import save_fingerprints\n",
    "import os"
   ]
  },
  {
   "cell_type": "code",
   "execution_count": 2,
   "id": "78f1e916",
   "metadata": {},
   "outputs": [],
   "source": [
    "SMILES = pd.read_csv(\"/home/acomajuncosa/Documents/chembl-antimicrobial-tasks/config/chembl_activities/compound_structures.csv\")['canonical_smiles'].tolist()\n",
    "# Calculate and save ECFP4s\n",
    "OUTPUT_SMILES, X = smiles_to_ecfp(SMILES[:10000])\n",
    "save_fingerprints(X, open(\"../tmp/X.npz\", \"wb\"))"
   ]
  },
  {
   "cell_type": "code",
   "execution_count": null,
   "id": "2f25d510",
   "metadata": {},
   "outputs": [],
   "source": []
  },
  {
   "cell_type": "code",
   "execution_count": null,
   "id": "37f4ee24",
   "metadata": {},
   "outputs": [],
   "source": []
  },
  {
   "cell_type": "code",
   "execution_count": null,
   "id": "01c178d8",
   "metadata": {},
   "outputs": [],
   "source": [
    "print(creds.service_account_email)"
   ]
  },
  {
   "cell_type": "code",
   "execution_count": null,
   "id": "639742cb",
   "metadata": {},
   "outputs": [],
   "source": []
  }
 ],
 "metadata": {
  "kernelspec": {
   "display_name": "enamine",
   "language": "python",
   "name": "python3"
  },
  "language_info": {
   "codemirror_mode": {
    "name": "ipython",
    "version": 3
   },
   "file_extension": ".py",
   "mimetype": "text/x-python",
   "name": "python",
   "nbconvert_exporter": "python",
   "pygments_lexer": "ipython3",
   "version": "3.12.12"
  }
 },
 "nbformat": 4,
 "nbformat_minor": 5
}
